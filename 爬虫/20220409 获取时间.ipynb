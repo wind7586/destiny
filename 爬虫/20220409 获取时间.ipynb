{
 "cells": [
  {
   "cell_type": "code",
   "execution_count": 8,
   "metadata": {},
   "outputs": [
    {
     "name": "stdout",
     "output_type": "stream",
     "text": [
      "2022-04-09 13:17:35\n",
      "2022\n",
      "4\n",
      "9\n",
      "13\n",
      "17\n",
      "35\n"
     ]
    }
   ],
   "source": [
    "import time\n",
    "ct = time.time()\n",
    "local_time = time.localtime(ct)\n",
    "data_head = time.strftime(\"%Y-%m-%d %H:%M:%S\", local_time)\n",
    "data_secs = (ct - int(ct)) * 1000\n",
    "time_stamp = \"%s.%03d\" % (data_head, data_secs)\n",
    "\n",
    "year=local_time[0]\n",
    "month=local_time[1]\n",
    "day=local_time[2]\n",
    "hour=local_time[3]\n",
    "minute=local_time[4]\n",
    "second=local_time[5]\n",
    "print(data_head)\n",
    "print(year)\n",
    "print(month)\n",
    "print(day)\n",
    "print(hour)\n",
    "print(minute)\n",
    "print(second)"
   ]
  },
  {
   "cell_type": "code",
   "execution_count": null,
   "metadata": {},
   "outputs": [],
   "source": []
  }
 ],
 "metadata": {
  "kernelspec": {
   "display_name": "Python 3",
   "language": "python",
   "name": "python3"
  },
  "language_info": {
   "codemirror_mode": {
    "name": "ipython",
    "version": 3
   },
   "file_extension": ".py",
   "mimetype": "text/x-python",
   "name": "python",
   "nbconvert_exporter": "python",
   "pygments_lexer": "ipython3",
   "version": "3.7.3"
  }
 },
 "nbformat": 4,
 "nbformat_minor": 2
}
