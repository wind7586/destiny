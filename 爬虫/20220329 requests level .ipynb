{
 "cells": [
  {
   "cell_type": "code",
   "execution_count": 7,
   "metadata": {},
   "outputs": [
    {
     "name": "stdout",
     "output_type": "stream",
     "text": [
      "{'status': {'code': 0, 'msg': 'succ'}, 'data': [{'bookId': 3270981, 'bookName': '我七个姐姐绝世无双', 'coverImg': 'https://cdn.static.17k.com/book/189x272/81/09/3270981.jpg-189x272?v=1612972744000', 'authorId': 38973652, 'authorPenName': '橙年岁月', 'introduction': '深居野林神秘老道，一手培养出七位足矣撼动华夏的绝美女徒弟。今日，又一名最小男徒儿罗峰顺利出山。\\n       罗峰：“我是老逼灯培养出最垃圾的徒弟，没什么本事，就想吃吃软饭，苟且度过这一生。”\\n      师父：“什么，他说他最弱？难道我没有告诉过你们，那小子身怀诡秘？”\\n      师姐：“我好像发现我们的小师弟越来越不对劲儿了，为什么世界各大强者都来跪舔他？”\\n      一位来自于世界黑暗深处的顶级势力后裔之子，出生便被抛弃做弃子，偶遇华夏旧时代战力天花板老疯子和七位倾城倾国的大背景七位师姐，从此掌握七大绝学误入都市豪门，卷动江湖风云，走上自证强者之路。', 'bookClass': {'id': 2, 'name': '男生'}, 'bookChannel': {'id': 3, 'name': '都市小说'}, 'bookCategory': {'id': 3, 'name': '都市生活'}, 'authLevel': {'id': 4, 'name': 'VIP作品'}, 'progress': 0, 'lastUpdateChapter': {'id': 46034765, 'name': '第六百三十一章 皮囊', 'createTime': 1648448300000, 'updateTime': 1648452125000, 'isVIP': {'id': 1, 'name': '是'}, 'publishTime': 1648448300000}, 'status': {'id': 4, 'name': '正常'}, 'bookStatus': {'id': 1, 'name': '连载'}, 'isVIP': {'id': 1, 'name': '是'}, 'bookmarkChapterId': 0, 'bookmarkChapterName': '', 'bookmarkChapterVipFlag': 0, 'topFlag': 0, 'createTimeValue': 1648522678000, 'updateTimeValue': 1648522684000, 'topTimeValue': 0, 'bookupdateTimeValue': 1648452125000, 'recCode': 'null1648524017797579', 'type': 5}, {'bookId': 3324680, 'bookName': '我在菜市口斩妖除魔那些年', 'coverImg': 'https://cdn.static.17k.com/book/189x272/80/46/3324680.jpg-189x272?v=1624413342000', 'authorId': 74843633, 'authorPenName': '大亨', 'introduction': '   \\u3000李长生一觉醒来，成为了大明王朝菜市口的一名刽子手！\\n\\n\\u3000\\u3000偏逢八百年大明朝妖魔横行，乾坤巨变之时，他发现自己斩杀死刑犯，可以获得各种的奖励！\\n\\n\\u3000\\u3000望气术，养气术，占卜术，替死术，纸人术，敛息术，换脸术，傀儡术，医术，机关术……\\n\\n\\u3000\\u3000上下几万年，漫漫仙道，无数魑魅魍魉一刀斩之，誓护我神州大地永世不衰！', 'bookClass': {'id': 2, 'name': '男生'}, 'bookChannel': {'id': 24, 'name': '仙侠武侠'}, 'bookCategory': {'id': 9, 'name': '古典仙侠'}, 'authLevel': {'id': 4, 'name': 'VIP作品'}, 'progress': 0, 'lastUpdateChapter': {'id': 46006603, 'name': '第906章 义不容辞', 'createTime': 1648045099000, 'updateTime': 1648469439000, 'isVIP': {'id': 1, 'name': '是'}, 'publishTime': 1648468802000}, 'status': {'id': 4, 'name': '正常'}, 'bookStatus': {'id': 1, 'name': '连载'}, 'isVIP': {'id': 1, 'name': '是'}, 'bookmarkChapterId': 0, 'bookmarkChapterName': '', 'bookmarkChapterVipFlag': 0, 'topFlag': 0, 'createTimeValue': 1648522678000, 'updateTimeValue': 1648522683000, 'topTimeValue': 0, 'bookupdateTimeValue': 1648471000000, 'recCode': 'null1648524017797579', 'type': 5}, {'bookId': 3376088, 'bookName': '空间：我靠美食养崽盘摄政王', 'coverImg': 'https://cdn.static.17k.com/book/189x272/88/60/3376088.jpg-189x272?v=1636682154000', 'authorId': 75880403, 'authorPenName': '曲弦思', 'introduction': '1V1 团宠+萌宝+美食+穿越+空间+腹黑摄政王\\n外表甜美看似温良真腹黑小厨娘VS表面高冷内心脑补伪冰山摄政王\\n穿成皇宫被太监逼婚致死的低等宫女，带着随身空间的秦晚词表示：小问题。\\n捡了三个娃和冷面冰山，养娃致富剧本？养得起！\\n八大菜系，从南到北，从东到西，五花八门，势必晃花晋国全体人民的眼。\\n可是秦晚词慢慢发现，她手里的剧本大概有问题，说好的种田养娃呢？怎么皇宫朝堂的各类大佬都出现了？\\n而冰山摄政王莫予书则发现，自从遇到了秦晚词，他每天都在崩人设……', 'bookClass': {'id': 3, 'name': '女生'}, 'bookChannel': {'id': 5, 'name': '古代言情'}, 'bookCategory': {'id': 165, 'name': '空间种田'}, 'authLevel': {'id': 4, 'name': 'VIP作品'}, 'progress': 0, 'lastUpdateChapter': {'id': 46037823, 'name': '第324章 挖啊挖地道', 'createTime': 1648477250000, 'updateTime': 1648516813000, 'isVIP': {'id': 1, 'name': '是'}, 'publishTime': 1648509003000}, 'status': {'id': 4, 'name': '正常'}, 'bookStatus': {'id': 1, 'name': '连载'}, 'isVIP': {'id': 1, 'name': '是'}, 'bookmarkChapterId': 0, 'bookmarkChapterName': '', 'bookmarkChapterVipFlag': 0, 'topFlag': 0, 'createTimeValue': 1648522678000, 'updateTimeValue': 1648522682000, 'topTimeValue': 0, 'bookupdateTimeValue': 1648516813000, 'recCode': 'null1648524017797579', 'type': 5}, {'bookId': 3406538, 'bookName': '顶级甜诱，大叔宠妻太恼火', 'coverImg': 'https://cdn.static.17k.com/book/189x272/38/65/3406538.jpg-189x272?v=1646639541000', 'authorId': 92697353, 'authorPenName': '辛梓萌', 'introduction': '【双洁，禁欲，治愈，大叔】\\n唐心是名大学生，配音专业，声色撩人，凭借优美动人的声音一夜成名吸粉几千万。\\n厉氏集团掌权人厉盛澜手眼通天，禁欲自持，二十九岁的他唯独对唐心的声音恋恋不忘。\\n情人节那晚，唐心失恋，醉酒偶遇厉盛澜，吧嗒一口亲男人脸上。男人眉眼微抬，全程躺平。\\n厉先生：“唐小姐不打算对我负责吗？”\\n唐心：“……”\\n某厉先生递上一份结婚协议书，许久后唐心才知道他是早有图谋。', 'bookClass': {'id': 3, 'name': '女生'}, 'bookChannel': {'id': 17, 'name': '现代言情'}, 'bookCategory': {'id': 26, 'name': '蜜爱甜宠'}, 'authLevel': {'id': 4, 'name': 'VIP作品'}, 'progress': 0, 'lastUpdateChapter': {'id': 46036159, 'name': '第100章厉太太在怀疑我的能力？', 'createTime': 1648463589000, 'updateTime': 1648465061000, 'isVIP': {'id': 1, 'name': '是'}, 'publishTime': 1648463589000}, 'status': {'id': 4, 'name': '正常'}, 'bookStatus': {'id': 1, 'name': '连载'}, 'isVIP': {'id': 1, 'name': '是'}, 'bookmarkChapterId': 0, 'bookmarkChapterName': '', 'bookmarkChapterVipFlag': 0, 'topFlag': 0, 'createTimeValue': 1648522678000, 'updateTimeValue': 1648522681000, 'topTimeValue': 0, 'bookupdateTimeValue': 1648465061000, 'recCode': 'null1648524017797579', 'type': 5}, {'bookId': 3334172, 'bookName': '震惊！我的徒弟居然是女帝', 'coverImg': 'https://cdn.static.17k.com/book/189x272/72/41/3334172.jpg-189x272?v=1627365091000', 'authorId': 76767153, 'authorPenName': '东风破浪', 'introduction': '【无敌爽文+女帝+甜宠】\\n世俗富家子秦天，在仙女的带领下加入了昆仑剑派，成为了昆仑小师叔。\\n觉醒签到系统，开局签到获得神秘功法。\\n本来想躺平签到修炼的他，却被躲避追杀的绝情女帝拜师。\\n没办法了，从此只能和女帝过没羞没臊的日子了……', 'bookClass': {'id': 2, 'name': '男生'}, 'bookChannel': {'id': 21, 'name': '玄幻奇幻'}, 'bookCategory': {'id': 8, 'name': '东方玄幻'}, 'authLevel': {'id': 4, 'name': 'VIP作品'}, 'progress': 0, 'lastUpdateChapter': {'id': 46032600, 'name': '第六百九十七章 天王宗来人', 'createTime': 1648397250000, 'updateTime': 1648460207000, 'isVIP': {'id': 1, 'name': '是'}, 'publishTime': 1648458600000}, 'status': {'id': 4, 'name': '正常'}, 'bookStatus': {'id': 1, 'name': '连载'}, 'isVIP': {'id': 1, 'name': '是'}, 'bookmarkChapterId': 0, 'bookmarkChapterName': '', 'bookmarkChapterVipFlag': 0, 'topFlag': 0, 'createTimeValue': 1648522678000, 'updateTimeValue': 1648522680000, 'topTimeValue': 0, 'bookupdateTimeValue': 1648477887000, 'recCode': 'null1648524017797579', 'type': 5}], 'num': 20, 'curPage': 1, 'totalNum': 5, 'totalPage': 1, 'hasMore': 0, 'time': 1648524017000}\n"
     ]
    }
   ],
   "source": [
    "#1模拟浏览器登录--》处理cookie 登录--》得到cookie  带着cookie去请求到url--》得到内容\n",
    "#2防盗链处理--》抓取梨视频数据\n",
    "#3代理--》防止被封IP\n",
    "\n",
    "#使用SESSION进行请求--》SESSION你可以认为是一连串的请求，在这个过程中的cookie不会丢失\n",
    "\n",
    "import requests\n",
    "\n",
    "session=requests.session()\n",
    "data={\n",
    "\"loginName\": \"15757353531\",\n",
    "\"password\": \"wjj123456789\"\n",
    "}\n",
    "#1.登录\n",
    "url=\"https://passport.17k.com/ck/user/login\"\n",
    "session.post(url,data=data)\n",
    "\n",
    "\n",
    "#2.拿登陆后的数据  之前的SESSION 有原先的COOKIE数据\n",
    "resp=session.get('https://user.17k.com/ck/author/shelf?page=1&appKey=2406394919')\n",
    "print(resp.json())\n"
   ]
  },
  {
   "cell_type": "code",
   "execution_count": null,
   "metadata": {},
   "outputs": [],
   "source": []
  }
 ],
 "metadata": {
  "kernelspec": {
   "display_name": "Python 3",
   "language": "python",
   "name": "python3"
  },
  "language_info": {
   "codemirror_mode": {
    "name": "ipython",
    "version": 3
   },
   "file_extension": ".py",
   "mimetype": "text/x-python",
   "name": "python",
   "nbconvert_exporter": "python",
   "pygments_lexer": "ipython3",
   "version": "3.7.3"
  }
 },
 "nbformat": 4,
 "nbformat_minor": 2
}
