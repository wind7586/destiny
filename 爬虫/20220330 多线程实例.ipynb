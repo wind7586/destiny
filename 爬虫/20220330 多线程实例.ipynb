{
 "cells": [
  {
   "cell_type": "code",
   "execution_count": 6,
   "metadata": {},
   "outputs": [
    {
     "ename": "SyntaxError",
     "evalue": "invalid syntax (<ipython-input-6-03433694275c>, line 15)",
     "output_type": "error",
     "traceback": [
      "\u001b[1;36m  File \u001b[1;32m\"<ipython-input-6-03433694275c>\"\u001b[1;36m, line \u001b[1;32m15\u001b[0m\n\u001b[1;33m    divs=html.xpath(\"//*[@id=\"tableBody\"]/tr[1]/td[1]\")\u001b[0m\n\u001b[1;37m                                      ^\u001b[0m\n\u001b[1;31mSyntaxError\u001b[0m\u001b[1;31m:\u001b[0m invalid syntax\n"
     ]
    }
   ],
   "source": [
    "#如何提取单个页面的数据\n",
    "#上线程池 多个页面同时抓取\n",
    "#http://www.xinfadi.com.cn/priceDetail.html\n",
    "import requests\n",
    "from lxml import etree\n",
    "\n",
    "\n",
    "\n",
    "def download_one_page(url):\n",
    "    #拿到页面源代码\n",
    "    resp=requests.get(url)\n",
    "    resp.encoding='utf-8'\n",
    "    #print(resp.json())\n",
    "    html=etree.HTML(resp.text)\n",
    "    divs=html.xpath(\"//*[@id=\"tableBody\"]/tr[1]/td[1]\")\n",
    "    print(divs)\n",
    "    \n",
    "    \n",
    "if __name__=='__main__':\n",
    "    download_one_page(\"http://www.xinfadi.com.cn/getPriceData.html\")\n",
    "    \n",
    "    \n",
    "\n"
   ]
  },
  {
   "cell_type": "code",
   "execution_count": null,
   "metadata": {},
   "outputs": [],
   "source": [
    "\n"
   ]
  }
 ],
 "metadata": {
  "kernelspec": {
   "display_name": "Python 3",
   "language": "python",
   "name": "python3"
  },
  "language_info": {
   "codemirror_mode": {
    "name": "ipython",
    "version": 3
   },
   "file_extension": ".py",
   "mimetype": "text/x-python",
   "name": "python",
   "nbconvert_exporter": "python",
   "pygments_lexer": "ipython3",
   "version": "3.7.3"
  }
 },
 "nbformat": 4,
 "nbformat_minor": 2
}
