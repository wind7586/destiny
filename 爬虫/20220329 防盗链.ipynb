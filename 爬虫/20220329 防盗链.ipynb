{
 "cells": [
  {
   "cell_type": "code",
   "execution_count": 13,
   "metadata": {},
   "outputs": [
    {
     "name": "stdout",
     "output_type": "stream",
     "text": [
      "over!\n"
     ]
    }
   ],
   "source": [
    "#拿到CONTID\n",
    "#拿到VIDEOSTATUS返回的JSON.-->SRCURL\n",
    "#进行内容修整\n",
    "#下载视频\n",
    "import requests\n",
    "\n",
    "url = \"https://www.pearvideo.com/video_1750965\"\n",
    "contId=url.split(\"_\")[1]\n",
    "videoStatusUrl =\"https://www.pearvideo.com/videoStatus.jsp?contId=1750965&mrd=0.8781427532958206\"\n",
    "headers={\n",
    "    \"User-Agent\": \"Mozilla/5.0 (Windows NT 10.0; Win64; x64) AppleWebKit/537.36 (KHTML, like Gecko) Chrome/99.0.4844.82 Safari/537.36\",\n",
    "     #防盗链：溯源，本次请求的上一级是谁\n",
    "    \"Referer\": url\n",
    "}\n",
    "resp=requests.get(videoStatusUrl,headers=headers)\n",
    "dic=resp.json()\n",
    "srcUrl=dic['videoInfo']['videos']['srcUrl']\n",
    "systemTime=dic['systemTime']\n",
    "srcUrl = srcUrl.replace(systemTime,f\"cont-{contId}\")\n",
    "#print(srcUrl)\n",
    "#https://video.pearvideo.com/mp4/short/20220319/cont-1750965-15846720-hd.mp4\n",
    "#https://video.pearvideo.com/mp4/short/20220319/1648531891027-15846720-hd.mp4\n",
    "\n",
    "\n",
    "#下载视频\n",
    "with open(\"a.mp4\",mode=\"wb\")as f:\n",
    "    f.write(requests.get(srcUrl).content)\n",
    "print(\"over!\")"
   ]
  },
  {
   "cell_type": "code",
   "execution_count": null,
   "metadata": {},
   "outputs": [],
   "source": []
  }
 ],
 "metadata": {
  "kernelspec": {
   "display_name": "Python 3",
   "language": "python",
   "name": "python3"
  },
  "language_info": {
   "codemirror_mode": {
    "name": "ipython",
    "version": 3
   },
   "file_extension": ".py",
   "mimetype": "text/x-python",
   "name": "python",
   "nbconvert_exporter": "python",
   "pygments_lexer": "ipython3",
   "version": "3.7.3"
  }
 },
 "nbformat": 4,
 "nbformat_minor": 2
}
