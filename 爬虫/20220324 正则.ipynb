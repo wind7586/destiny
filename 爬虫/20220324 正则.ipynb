{
 "cells": [
  {
   "cell_type": "code",
   "execution_count": 24,
   "metadata": {},
   "outputs": [],
   "source": [
    "import re"
   ]
  },
  {
   "cell_type": "code",
   "execution_count": 2,
   "metadata": {},
   "outputs": [
    {
     "name": "stdout",
     "output_type": "stream",
     "text": [
      "['10086']\n"
     ]
    }
   ],
   "source": [
    "#findall:匹配字符串中所有的符合正则的内容\n",
    "list=re.findall(r\"\\d+\",\"我的电话号是：10086\")\n",
    "print(list)"
   ]
  },
  {
   "cell_type": "code",
   "execution_count": 5,
   "metadata": {},
   "outputs": [
    {
     "name": "stdout",
     "output_type": "stream",
     "text": [
      "<callable_iterator object at 0x000001A41B2EFEF0>\n",
      "10086\n"
     ]
    }
   ],
   "source": [
    "#finditer：匹配字符串中所有的内容【返回的是迭代器】，从迭代器中拿到内容需要.group()\n",
    "it=re.finditer(r\"\\d+\",\"我的电话号是：10086\")\n",
    "print(it)\n",
    "for i in it:\n",
    "    print(i.group())"
   ]
  },
  {
   "cell_type": "code",
   "execution_count": 7,
   "metadata": {},
   "outputs": [
    {
     "name": "stdout",
     "output_type": "stream",
     "text": [
      "10086\n"
     ]
    }
   ],
   "source": [
    "#search返回的是match对象，拿数据需要.group(),找到一个结果就返回\n",
    "s=re.search(r\"\\d+\",\"我的电话号是：10086\")\n",
    "print(s.group())"
   ]
  },
  {
   "cell_type": "code",
   "execution_count": 9,
   "metadata": {},
   "outputs": [
    {
     "name": "stdout",
     "output_type": "stream",
     "text": [
      "10086\n"
     ]
    }
   ],
   "source": [
    "#match从头开始匹配\n",
    "s=re.match(r\"\\d+\",\"10086\")\n",
    "print(s.group())"
   ]
  },
  {
   "cell_type": "code",
   "execution_count": 13,
   "metadata": {},
   "outputs": [
    {
     "name": "stdout",
     "output_type": "stream",
     "text": [
      "<callable_iterator object at 0x000001A41B37F7F0>\n",
      "10086\n"
     ]
    }
   ],
   "source": [
    "#预加载正则表达式\n",
    "obj=re.compile(r\"\\d+\")\n",
    "ret=obj.finditer(\"我的电话号是：10086\")\n",
    "print(ret)\n",
    "for it in ret:\n",
    "    print(it.group())"
   ]
  },
  {
   "cell_type": "code",
   "execution_count": 34,
   "metadata": {},
   "outputs": [
    {
     "ename": "SyntaxError",
     "evalue": "invalid syntax (<ipython-input-34-4324bf46bf59>, line 7)",
     "output_type": "error",
     "traceback": [
      "\u001b[1;36m  File \u001b[1;32m\"<ipython-input-34-4324bf46bf59>\"\u001b[1;36m, line \u001b[1;32m7\u001b[0m\n\u001b[1;33m    obj=re.compile(r'<div class='.*?'><spin id='/d+'>(?P<wahaha>.*?)</span></div>',re.S)\u001b[0m\n\u001b[1;37m                                  ^\u001b[0m\n\u001b[1;31mSyntaxError\u001b[0m\u001b[1;31m:\u001b[0m invalid syntax\n"
     ]
    }
   ],
   "source": [
    "#re.S作用是让.能匹配换行符 (?P<分组名字>正则) 可以单独从正则匹配中进一步提取到内容\n",
    "s=\"\"\"\n",
    "<div class='西游记'><spin id='1'>中国联通</span></div>\n",
    "<div class='三国演义'><spin id='2'>中国移动</span></div>\n",
    "<div class='红楼梦'><spin id='3'>中国电信</span></div>\n",
    "\"\"\"\n",
    "obj=re.compile(r'<div class='.*?'><spin id='/d+'>(?P<wahaha>.*?)</span></div>',re.S)\n",
    "res=obj.finditer(s)\n",
    "for it in result:\n",
    "    print(it.group(\"wahaha\"))\n"
   ]
  },
  {
   "cell_type": "code",
   "execution_count": 28,
   "metadata": {},
   "outputs": [
    {
     "name": "stderr",
     "output_type": "stream",
     "text": [
      "D:\\ac\\lib\\site-packages\\requests\\__init__.py:91: RequestsDependencyWarning: urllib3 (1.26.9) or chardet (3.0.4) doesn't match a supported version!\n",
      "  RequestsDependencyWarning)\n"
     ]
    }
   ],
   "source": [
    "import re \n",
    "import requests"
   ]
  },
  {
   "cell_type": "code",
   "execution_count": null,
   "metadata": {},
   "outputs": [],
   "source": [
    "import re \n",
    "import requests\n",
    "import csv\n",
    "\n",
    "url=\"https://movie.douban.com/top250\"\n",
    "headers={\n",
    "    \"User-Agent\": \"Mozilla/5.0 (Windows NT 10.0; Win64; x64) AppleWebKit/537.36 (KHTML, like Gecko) Chrome/99.0.4844.82 Safari/537.36\"\n",
    "}\n",
    "resp=requests.get(url,headers=headers)\n",
    "page_content=resp.text\n",
    "#解析数据\n",
    "obj=re.compile(r'<li>.*? <div class=\"item\">.*?<span class=\"title\">(?P<name>.*?)'\n",
    "               r'</span>.*?<p class=\"\">.*?<br>(?P<year>.*?)&nbsp.*?<span '\n",
    "               r'class=\"rating_num\" property=\"v:average\">(?P<score>.*?)</span>.*?'\n",
    "               r'<span>(?P<man>.*?)人评价</span>',re.S)\n",
    "\n",
    "\n",
    "#开始匹配\n",
    "result=obj.finditer(page_content)\n",
    "f=open(\"data.csv\",mode=\"w\")\n",
    "csvwriter=csv.writer(f)\n",
    "for it in result:\n",
    "    #print(it.group(\"name\"))\n",
    "    #print(it.group(\"year\").strip())\n",
    "    #print(it.group(\"score\"))\n",
    "    #print(it.group(\"man\"))\n",
    "    dic=it.groupdict()\n",
    "    dic['year']=dic['year'].strip()\n",
    "    csvwriter.writerow(dic.values())\n",
    "f.close()\n",
    "print(\"over!\")"
   ]
  },
  {
   "cell_type": "code",
   "execution_count": null,
   "metadata": {},
   "outputs": [],
   "source": []
  }
 ],
 "metadata": {
  "kernelspec": {
   "display_name": "Python 3",
   "language": "python",
   "name": "python3"
  },
  "language_info": {
   "codemirror_mode": {
    "name": "ipython",
    "version": 3
   },
   "file_extension": ".py",
   "mimetype": "text/x-python",
   "name": "python",
   "nbconvert_exporter": "python",
   "pygments_lexer": "ipython3",
   "version": "3.7.3"
  }
 },
 "nbformat": 4,
 "nbformat_minor": 2
}
