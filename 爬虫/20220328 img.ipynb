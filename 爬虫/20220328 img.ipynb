{
 "cells": [
  {
   "cell_type": "code",
   "execution_count": 10,
   "metadata": {},
   "outputs": [
    {
     "name": "stdout",
     "output_type": "stream",
     "text": [
      "over! 6b72c57a1423c866d2b9dc10d0473f27.jpg\n",
      "over! 774218be86d832f359637ab120eba52d.jpg\n",
      "over! 563337d07af599a9ea64e620729f367e.jpg\n"
     ]
    },
    {
     "ename": "KeyboardInterrupt",
     "evalue": "",
     "output_type": "error",
     "traceback": [
      "\u001b[1;31m---------------------------------------------------------------------------\u001b[0m",
      "\u001b[1;31mKeyboardInterrupt\u001b[0m                         Traceback (most recent call last)",
      "\u001b[1;32m<ipython-input-10-029d82d9b668>\u001b[0m in \u001b[0;36m<module>\u001b[1;34m\u001b[0m\n\u001b[0;32m     27\u001b[0m         \u001b[0mf\u001b[0m\u001b[1;33m.\u001b[0m\u001b[0mwrite\u001b[0m\u001b[1;33m(\u001b[0m\u001b[0mimg_resp\u001b[0m\u001b[1;33m.\u001b[0m\u001b[0mcontent\u001b[0m\u001b[1;33m)\u001b[0m\u001b[1;31m#图片内容写入文件\u001b[0m\u001b[1;33m\u001b[0m\u001b[1;33m\u001b[0m\u001b[0m\n\u001b[0;32m     28\u001b[0m     \u001b[0mprint\u001b[0m\u001b[1;33m(\u001b[0m\u001b[1;34m\"over!\"\u001b[0m\u001b[1;33m,\u001b[0m\u001b[0mimg_name\u001b[0m\u001b[1;33m)\u001b[0m\u001b[1;33m\u001b[0m\u001b[1;33m\u001b[0m\u001b[0m\n\u001b[1;32m---> 29\u001b[1;33m     \u001b[0mtime\u001b[0m\u001b[1;33m.\u001b[0m\u001b[0msleep\u001b[0m\u001b[1;33m(\u001b[0m\u001b[1;36m3\u001b[0m\u001b[1;33m)\u001b[0m\u001b[1;33m\u001b[0m\u001b[1;33m\u001b[0m\u001b[0m\n\u001b[0m\u001b[0;32m     30\u001b[0m \u001b[1;33m\u001b[0m\u001b[0m\n\u001b[0;32m     31\u001b[0m \u001b[0mprint\u001b[0m\u001b[1;33m(\u001b[0m\u001b[1;34m\"all over!\"\u001b[0m\u001b[1;33m)\u001b[0m\u001b[1;33m\u001b[0m\u001b[1;33m\u001b[0m\u001b[0m\n",
      "\u001b[1;31mKeyboardInterrupt\u001b[0m: "
     ]
    }
   ],
   "source": [
    "import requests\n",
    "from bs4 import BeautifulSoup\n",
    "import time\n",
    "url=\"https://www.umei.cc/bizhitupian/weimeibizhi/\"\n",
    "url1=\"https://www.umei.cc\"\n",
    "resp=requests.get(url)\n",
    "resp.encoding='utf-8'\n",
    "#print(resp.text)\n",
    "main_page = BeautifulSoup(resp.text,\"html.parser\")\n",
    "alist = main_page.find(\"div\",class_=\"TypeList\").find_all(\"a\")\n",
    "for a in alist:\n",
    "    href=(url1+a.get('href'))\n",
    "    #拿到子页面源代码\n",
    "    child_page_resp = requests.get(href)\n",
    "    child_page_resp.encoding='utf-8'\n",
    "    child_page_text=child_page_resp.text\n",
    "    #从子页面中拿到图片下载路径\n",
    "    child_page=BeautifulSoup(child_page_text,\"html.parser\")\n",
    "    p = child_page.find(\"p\",align=\"center\")\n",
    "    img=p.find(\"img\")\n",
    "    src=img.get(\"src\")\n",
    "    #下载图片\n",
    "    img_resp = requests.get(src)\n",
    "    #img_resp.content #拿到的是字节\n",
    "    img_name = src.split(\"/\")[-1]#拿到URL中的最后一个/以后的内容\n",
    "    with open(\"img/\"+img_name,mode=\"wb\")as f:\n",
    "        f.write(img_resp.content)#图片内容写入文件\n",
    "    print(\"over!\",img_name)\n",
    "    time.sleep(3)\n",
    "    \n",
    "print(\"all over!\")"
   ]
  },
  {
   "cell_type": "code",
   "execution_count": null,
   "metadata": {},
   "outputs": [],
   "source": []
  }
 ],
 "metadata": {
  "kernelspec": {
   "display_name": "Python 3",
   "language": "python",
   "name": "python3"
  },
  "language_info": {
   "codemirror_mode": {
    "name": "ipython",
    "version": 3
   },
   "file_extension": ".py",
   "mimetype": "text/x-python",
   "name": "python",
   "nbconvert_exporter": "python",
   "pygments_lexer": "ipython3",
   "version": "3.7.3"
  }
 },
 "nbformat": 4,
 "nbformat_minor": 2
}
